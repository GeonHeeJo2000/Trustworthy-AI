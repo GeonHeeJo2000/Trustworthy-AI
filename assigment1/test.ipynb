{
 "cells": [
  {
   "cell_type": "code",
   "execution_count": 1,
   "metadata": {},
   "outputs": [
    {
     "data": {
      "text/plain": [
       "device(type='cuda')"
      ]
     },
     "execution_count": 1,
     "metadata": {},
     "output_type": "execute_result"
    }
   ],
   "source": [
    "import matplotlib.pyplot as plt\n",
    "from tqdm import tqdm\n",
    "\n",
    "import torch\n",
    "import torch.nn as nn\n",
    "import torch.nn.functional as F\n",
    "import torchvision\n",
    "import torchvision.transforms as transforms\n",
    "from torch.utils.data import DataLoader\n",
    "\n",
    "device = torch.device(\"cuda\" if torch.cuda.is_available() else \"cpu\")\n",
    "device"
   ]
  },
  {
   "cell_type": "markdown",
   "metadata": {},
   "source": [
    "### Dataset Setup\n",
    "\n",
    "1. mnist: Network Error로 인해 직접 다운로드가 불가능함 -> 수동으로 다운로드\n",
    "- 'https://ossci-datasets.s3.amazonaws.com/mnist/train-images-idx3-ubyte.gz',\n",
    "- 'https://ossci-datasets.s3.amazonaws.com/mnist/train-labels-idx1-ubyte.gz',\n",
    "- 'https://ossci-datasets.s3.amazonaws.com/mnist/t10k-images-idx3-ubyte.gz', \n",
    "- 'https://ossci-datasets.s3.amazonaws.com/mnist/t10k-labels-idx1-ubyte.gz',\n",
    "\n",
    "2. cifar: 자동으로 다운로드가 가능함"
   ]
  },
  {
   "cell_type": "code",
   "execution_count": 2,
   "metadata": {},
   "outputs": [],
   "source": [
    "transform_mnist = transforms.Compose([transforms.ToTensor()])\n",
    "\n",
    "mnist_train = torchvision.datasets.MNIST(root='./data', train=True, transform=transform_mnist, download=True)\n",
    "mnist_test = torchvision.datasets.MNIST(root='./data', train=False, transform=transform_mnist, download=False)\n",
    "\n",
    "mnist_train_loader = DataLoader(mnist_train, batch_size=64, shuffle=True)\n",
    "mnist_test_loader = DataLoader(mnist_test, batch_size=64, shuffle=False)"
   ]
  },
  {
   "cell_type": "code",
   "execution_count": 3,
   "metadata": {},
   "outputs": [
    {
     "name": "stdout",
     "output_type": "stream",
     "text": [
      "shape : torch.Size([28, 28])\n"
     ]
    },
    {
     "data": {
      "text/plain": [
       "tensor([[  0,   0,   0,   0,   0,   0,   0,   0,   0,   0,   0,   0,   0,   0,\n",
       "           0,   0,   0,   0,   0,   0,   0,   0,   0,   0,   0,   0,   0,   0],\n",
       "        [  0,   0,   0,   0,   0,   0,   0,   0,   0,   0,   0,   0,   0,   0,\n",
       "           0,   0,   0,   0,   0,   0,   0,   0,   0,   0,   0,   0,   0,   0],\n",
       "        [  0,   0,   0,   0,   0,   0,   0,   0,   0,   0,   0,   0,   0,   0,\n",
       "           0,   0,   0,   0,   0,   0,   0,   0,   0,   0,   0,   0,   0,   0],\n",
       "        [  0,   0,   0,   0,   0,   0,   0,   0,   0,   0,   0,   0,   0,   0,\n",
       "           0,   0,   0,   0,   0,   0,   0,   0,   0,   0,   0,   0,   0,   0],\n",
       "        [  0,   0,   0,   0,   0,   0,   0,   0,   0,   0,   0,   0,   0,   0,\n",
       "           0,   0,   0,   0,   0,   0,   0,   0,   0,   0,   0,   0,   0,   0],\n",
       "        [  0,   0,   0,   0,   0,   0,   0,   0,   0,   0,   0,   0,   3,  18,\n",
       "          18,  18, 126, 136, 175,  26, 166, 255, 247, 127,   0,   0,   0,   0],\n",
       "        [  0,   0,   0,   0,   0,   0,   0,   0,  30,  36,  94, 154, 170, 253,\n",
       "         253, 253, 253, 253, 225, 172, 253, 242, 195,  64,   0,   0,   0,   0],\n",
       "        [  0,   0,   0,   0,   0,   0,   0,  49, 238, 253, 253, 253, 253, 253,\n",
       "         253, 253, 253, 251,  93,  82,  82,  56,  39,   0,   0,   0,   0,   0],\n",
       "        [  0,   0,   0,   0,   0,   0,   0,  18, 219, 253, 253, 253, 253, 253,\n",
       "         198, 182, 247, 241,   0,   0,   0,   0,   0,   0,   0,   0,   0,   0],\n",
       "        [  0,   0,   0,   0,   0,   0,   0,   0,  80, 156, 107, 253, 253, 205,\n",
       "          11,   0,  43, 154,   0,   0,   0,   0,   0,   0,   0,   0,   0,   0],\n",
       "        [  0,   0,   0,   0,   0,   0,   0,   0,   0,  14,   1, 154, 253,  90,\n",
       "           0,   0,   0,   0,   0,   0,   0,   0,   0,   0,   0,   0,   0,   0],\n",
       "        [  0,   0,   0,   0,   0,   0,   0,   0,   0,   0,   0, 139, 253, 190,\n",
       "           2,   0,   0,   0,   0,   0,   0,   0,   0,   0,   0,   0,   0,   0],\n",
       "        [  0,   0,   0,   0,   0,   0,   0,   0,   0,   0,   0,  11, 190, 253,\n",
       "          70,   0,   0,   0,   0,   0,   0,   0,   0,   0,   0,   0,   0,   0],\n",
       "        [  0,   0,   0,   0,   0,   0,   0,   0,   0,   0,   0,   0,  35, 241,\n",
       "         225, 160, 108,   1,   0,   0,   0,   0,   0,   0,   0,   0,   0,   0],\n",
       "        [  0,   0,   0,   0,   0,   0,   0,   0,   0,   0,   0,   0,   0,  81,\n",
       "         240, 253, 253, 119,  25,   0,   0,   0,   0,   0,   0,   0,   0,   0],\n",
       "        [  0,   0,   0,   0,   0,   0,   0,   0,   0,   0,   0,   0,   0,   0,\n",
       "          45, 186, 253, 253, 150,  27,   0,   0,   0,   0,   0,   0,   0,   0],\n",
       "        [  0,   0,   0,   0,   0,   0,   0,   0,   0,   0,   0,   0,   0,   0,\n",
       "           0,  16,  93, 252, 253, 187,   0,   0,   0,   0,   0,   0,   0,   0],\n",
       "        [  0,   0,   0,   0,   0,   0,   0,   0,   0,   0,   0,   0,   0,   0,\n",
       "           0,   0,   0, 249, 253, 249,  64,   0,   0,   0,   0,   0,   0,   0],\n",
       "        [  0,   0,   0,   0,   0,   0,   0,   0,   0,   0,   0,   0,   0,   0,\n",
       "          46, 130, 183, 253, 253, 207,   2,   0,   0,   0,   0,   0,   0,   0],\n",
       "        [  0,   0,   0,   0,   0,   0,   0,   0,   0,   0,   0,   0,  39, 148,\n",
       "         229, 253, 253, 253, 250, 182,   0,   0,   0,   0,   0,   0,   0,   0],\n",
       "        [  0,   0,   0,   0,   0,   0,   0,   0,   0,   0,  24, 114, 221, 253,\n",
       "         253, 253, 253, 201,  78,   0,   0,   0,   0,   0,   0,   0,   0,   0],\n",
       "        [  0,   0,   0,   0,   0,   0,   0,   0,  23,  66, 213, 253, 253, 253,\n",
       "         253, 198,  81,   2,   0,   0,   0,   0,   0,   0,   0,   0,   0,   0],\n",
       "        [  0,   0,   0,   0,   0,   0,  18, 171, 219, 253, 253, 253, 253, 195,\n",
       "          80,   9,   0,   0,   0,   0,   0,   0,   0,   0,   0,   0,   0,   0],\n",
       "        [  0,   0,   0,   0,  55, 172, 226, 253, 253, 253, 253, 244, 133,  11,\n",
       "           0,   0,   0,   0,   0,   0,   0,   0,   0,   0,   0,   0,   0,   0],\n",
       "        [  0,   0,   0,   0, 136, 253, 253, 253, 212, 135, 132,  16,   0,   0,\n",
       "           0,   0,   0,   0,   0,   0,   0,   0,   0,   0,   0,   0,   0,   0],\n",
       "        [  0,   0,   0,   0,   0,   0,   0,   0,   0,   0,   0,   0,   0,   0,\n",
       "           0,   0,   0,   0,   0,   0,   0,   0,   0,   0,   0,   0,   0,   0],\n",
       "        [  0,   0,   0,   0,   0,   0,   0,   0,   0,   0,   0,   0,   0,   0,\n",
       "           0,   0,   0,   0,   0,   0,   0,   0,   0,   0,   0,   0,   0,   0],\n",
       "        [  0,   0,   0,   0,   0,   0,   0,   0,   0,   0,   0,   0,   0,   0,\n",
       "           0,   0,   0,   0,   0,   0,   0,   0,   0,   0,   0,   0,   0,   0]],\n",
       "       dtype=torch.uint8)"
      ]
     },
     "execution_count": 3,
     "metadata": {},
     "output_type": "execute_result"
    }
   ],
   "source": [
    "print(\"shape :\", mnist_train.data[0].shape)\n",
    "mnist_train.data[0]"
   ]
  },
  {
   "cell_type": "code",
   "execution_count": 4,
   "metadata": {},
   "outputs": [
    {
     "name": "stdout",
     "output_type": "stream",
     "text": [
      "classes:  ['0 - zero', '1 - one', '2 - two', '3 - three', '4 - four', '5 - five', '6 - six', '7 - seven', '8 - eight', '9 - nine']\n"
     ]
    },
    {
     "name": "stderr",
     "output_type": "stream",
     "text": [
      "/opt/conda/envs/FGSM/lib/python3.11/site-packages/torchvision/datasets/mnist.py:66: UserWarning: train_labels has been renamed targets\n",
      "  warnings.warn(\"train_labels has been renamed targets\")\n"
     ]
    },
    {
     "data": {
      "text/plain": [
       "tensor(5)"
      ]
     },
     "execution_count": 4,
     "metadata": {},
     "output_type": "execute_result"
    }
   ],
   "source": [
    "print(\"classes: \", mnist_train.classes)\n",
    "mnist_train.train_labels[0]"
   ]
  },
  {
   "cell_type": "code",
   "execution_count": 5,
   "metadata": {},
   "outputs": [
    {
     "data": {
      "image/png": "[encoded data removed]",
      "text/plain": [
       "<Figure size 640x480 with 1 Axes>"
      ]
     },
     "metadata": {},
     "output_type": "display_data"
    }
   ],
   "source": [
    "image = mnist_train.data[0]\n",
    "\n",
    "plt.imshow(image, cmap='gray')\n",
    "plt.title(\"MNIST Image\")\n",
    "plt.axis('off')\n",
    "plt.show()"
   ]
  },
  {
   "cell_type": "code",
   "execution_count": 6,
   "metadata": {},
   "outputs": [],
   "source": [
    "transform_cifar = transforms.Compose([transforms.ToTensor()])\n",
    "\n",
    "cifar_train = torchvision.datasets.CIFAR10(root='./data', train=True, transform=transform_cifar, download=True)\n",
    "cifar_test = torchvision.datasets.CIFAR10(root='./data', train=False, transform=transform_cifar, download=True)\n",
    "\n",
    "cifar_train_loader = DataLoader(cifar_train, batch_size=64, shuffle=True)\n",
    "cifar_test_loader = DataLoader(cifar_test, batch_size=64, shuffle=False)"
   ]
  },
  {
   "cell_type": "code",
   "execution_count": 7,
   "metadata": {},
   "outputs": [
    {
     "name": "stdout",
     "output_type": "stream",
     "text": [
      "shape : (32, 32, 3)\n"
     ]
    },
    {
     "data": {
      "text/plain": [
       "array([[[ 59,  62,  63],\n",
       "        [ 43,  46,  45],\n",
       "        [ 50,  48,  43],\n",
       "        ...,\n",
       "        [158, 132, 108],\n",
       "        [152, 125, 102],\n",
       "        [148, 124, 103]],\n",
       "\n",
       "       [[ 16,  20,  20],\n",
       "        [  0,   0,   0],\n",
       "        [ 18,   8,   0],\n",
       "        ...,\n",
       "        [123,  88,  55],\n",
       "        [119,  83,  50],\n",
       "        [122,  87,  57]],\n",
       "\n",
       "       [[ 25,  24,  21],\n",
       "        [ 16,   7,   0],\n",
       "        [ 49,  27,   8],\n",
       "        ...,\n",
       "        [118,  84,  50],\n",
       "        [120,  84,  50],\n",
       "        [109,  73,  42]],\n",
       "\n",
       "       ...,\n",
       "\n",
       "       [[208, 170,  96],\n",
       "        [201, 153,  34],\n",
       "        [198, 161,  26],\n",
       "        ...,\n",
       "        [160, 133,  70],\n",
       "        [ 56,  31,   7],\n",
       "        [ 53,  34,  20]],\n",
       "\n",
       "       [[180, 139,  96],\n",
       "        [173, 123,  42],\n",
       "        [186, 144,  30],\n",
       "        ...,\n",
       "        [184, 148,  94],\n",
       "        [ 97,  62,  34],\n",
       "        [ 83,  53,  34]],\n",
       "\n",
       "       [[177, 144, 116],\n",
       "        [168, 129,  94],\n",
       "        [179, 142,  87],\n",
       "        ...,\n",
       "        [216, 184, 140],\n",
       "        [151, 118,  84],\n",
       "        [123,  92,  72]]], shape=(32, 32, 3), dtype=uint8)"
      ]
     },
     "execution_count": 7,
     "metadata": {},
     "output_type": "execute_result"
    }
   ],
   "source": [
    "print(\"shape :\", cifar_train.data[0].shape)\n",
    "cifar_train.data[0]"
   ]
  },
  {
   "cell_type": "code",
   "execution_count": 8,
   "metadata": {},
   "outputs": [
    {
     "name": "stdout",
     "output_type": "stream",
     "text": [
      "classes:  ['airplane', 'automobile', 'bird', 'cat', 'deer', 'dog', 'frog', 'horse', 'ship', 'truck']\n",
      "Target:  6\n"
     ]
    },
    {
     "data": {
      "text/plain": [
       "'frog'"
      ]
     },
     "execution_count": 8,
     "metadata": {},
     "output_type": "execute_result"
    }
   ],
   "source": [
    "print(\"classes: \", cifar_train.classes)\n",
    "print(\"Target: \", cifar_train.targets[0])\n",
    "cifar_train.classes[cifar_train.targets[0]]"
   ]
  },
  {
   "cell_type": "code",
   "execution_count": 9,
   "metadata": {},
   "outputs": [
    {
     "data": {
      "image/png": "[encoded data removed]",
      "text/plain": [
       "<Figure size 640x480 with 1 Axes>"
      ]
     },
     "metadata": {},
     "output_type": "display_data"
    }
   ],
   "source": [
    "image = cifar_train.data[0]  # No reshaping needed if it's already in (32, 32, 3)\n",
    "\n",
    "plt.imshow(image)\n",
    "plt.title(\"CIFAR Image\")\n",
    "plt.axis('off')\n",
    "plt.show()"
   ]
  },
  {
   "cell_type": "markdown",
   "metadata": {},
   "source": [
    "### Model Definitions"
   ]
  },
  {
   "cell_type": "code",
   "execution_count": 10,
   "metadata": {},
   "outputs": [],
   "source": [
    "class MNIST_CNN(nn.Module):\n",
    "    def __init__(self):\n",
    "        super().__init__()\n",
    "        self.conv = nn.Sequential(\n",
    "            nn.Conv2d(1, 32, 3, padding=1), nn.ReLU(), nn.MaxPool2d(2),\n",
    "            nn.Conv2d(32, 64, 3, padding=1), nn.ReLU(), nn.MaxPool2d(2)\n",
    "        )\n",
    "        self.fc = nn.Sequential(\n",
    "            nn.Flatten(),\n",
    "            nn.Linear(64 * 7 * 7, 128), nn.ReLU(),\n",
    "            nn.Linear(128, 10)\n",
    "        )\n",
    "\n",
    "    def forward(self, x):\n",
    "        # x is of shape (batch_size, 1, 28, 28)\n",
    "        return self.fc(self.conv(x))\n",
    "\n",
    "class CIFAR_CNN(nn.Module):\n",
    "    def __init__(self):\n",
    "        super().__init__()\n",
    "        self.conv = nn.Sequential(\n",
    "            nn.Conv2d(3, 32, 3, padding=1), nn.ReLU(), nn.MaxPool2d(2),\n",
    "            nn.Conv2d(32, 64, 3, padding=1), nn.ReLU(), nn.MaxPool2d(2)\n",
    "        )\n",
    "        self.fc = nn.Sequential(\n",
    "            nn.Flatten(),\n",
    "            nn.Linear(64 * 8 * 8, 128), nn.ReLU(),\n",
    "            nn.Linear(128, 10)\n",
    "        )\n",
    "\n",
    "    def forward(self, x):\n",
    "        # x is of shape (batch_size, 3, 32, 32)\n",
    "        return self.fc(self.conv(x))"
   ]
  },
  {
   "cell_type": "markdown",
   "metadata": {},
   "source": [
    "### FGSM & PGD Attack Implementations"
   ]
  },
  {
   "cell_type": "code",
   "execution_count": 11,
   "metadata": {},
   "outputs": [],
   "source": [
    "def fgsm_targeted(model, x, target, epsilon):\n",
    "    '''\n",
    "    FGSM targeted attack: 학습된 모델(CNN)을 사용하여 입력 이미지 x에 대한 gradient를 계산하고,\n",
    "    해당 gradient를 사용하여 입력 이미지 x를 공격하여 target label로 분류되도록 변형하는 함수. ex) label이 0인 이미지에 대해서 1(Target)로 분류되도록 입력 이미지 x를 변형\n",
    "    '''\n",
    "    x.requires_grad = True # 입력 x에 대해 gradient를 계산(모델은 학습하지 않음)\n",
    "    output = model(x)      # 예측 값\n",
    "    loss = F.cross_entropy(output, target)  # classification: minimize target loss\n",
    "    model.zero_grad() # Pytorch 0.4.1 이상에서는 model.zero_grad()를 사용하여 gradient 초기화: 모델 파라미터의 gradient도 자동으로 생성되고 누적됨\n",
    "    loss.backward()   # 입력 이미지 x에 대한 gradient 계산\n",
    "    x_grad = x.grad.data # x에 대한 gradient를 가져옴\n",
    "    x_adv = x - epsilon * x_grad.sign()  # 입력 이미지 x에 대해서 target label로 분류되도록 변형. ex) target label로 예측한 경우, loss가 작고 입력 이미지가 적게 변형. 목\n",
    "    return torch.clamp(x_adv, 0, 1)\n",
    "\n",
    "def fgsm_untargeted(model, x, label, epsilon):\n",
    "    '''\n",
    "    FGSM untargeted attack: 학습된 모델(CNN)을 사용하여 입력 이미지 x에 대한 gradient를 계산하고,\n",
    "    해당 gradient를 사용하여 입력 이미지 x를 공격하여 label로 분류되도록 변형하는 함수. ex) label이 0인 이미지에 대해서 0(label)이 아닌 경우로만 분류되도록 입력 이미지 x를 변형\n",
    "    '''\n",
    "    x.requires_grad = True # 입력 x에 대해 gradient를 계산\n",
    "    output = model(x)\n",
    "    loss = F.cross_entropy(output, label)\n",
    "    model.zero_grad()\n",
    "    loss.backward()\n",
    "    x_grad = x.grad.data\n",
    "    x_adv = x + epsilon * x_grad.sign() # 입력 이미지 x에 대해서 label로 분류되지않도록 변형. ex) label로 예측하지 않은 경우, loss가 크고 입력 이미지가 많이 변형. \n",
    "    return torch.clamp(x_adv, 0, 1) # clip to [0, 1]\n",
    "\n",
    "\n",
    "def pgd_attack(model, x, label_or_target, k, eps, eps_step, targeted=False):\n",
    "    x_adv = x + torch.empty_like(x).uniform_(-eps, eps) # Random initialization\n",
    "    x_adv = torch.clamp(x_adv, 0, 1) # clip to [0, 1]\n",
    "\n",
    "    for _ in range(k):\n",
    "        x_adv = x_adv.clone().detach().requires_grad_(True)  # Fix: make x_adv a leaf variable with grad\n",
    "        output = model(x_adv)\n",
    "        loss = F.cross_entropy(output, label_or_target)\n",
    "        model.zero_grad()\n",
    "        loss.backward()\n",
    "        grad = x_adv.grad.data\n",
    "\n",
    "        if targeted:\n",
    "            x_adv = x_adv - eps_step * grad.sign()\n",
    "        else:\n",
    "            x_adv = x_adv + eps_step * grad.sign()\n",
    "\n",
    "        x_adv = torch.clamp(x_adv, 0, 1) # clip to [0, 1]\n",
    "        x_adv = torch.clamp(x_adv, x - eps, x + eps).detach() # project back to the epsilon ball around x\n",
    "\n",
    "    return x_adv"
   ]
  },
  {
   "cell_type": "code",
   "execution_count": 12,
   "metadata": {},
   "outputs": [],
   "source": [
    "def train(model, loader, epochs=1):\n",
    "    optimizer = torch.optim.Adam(model.parameters(), lr=0.001)\n",
    "    model.train()\n",
    "    for epoch in tqdm(range(epochs), desc=\"training\"):\n",
    "        for x, y in loader:\n",
    "            x, y = x.to(device), y.to(device)\n",
    "            optimizer.zero_grad()\n",
    "            output = model(x)\n",
    "            loss = F.cross_entropy(output, y)\n",
    "            loss.backward()\n",
    "            optimizer.step()\n",
    "\n",
    "\n",
    "def test(model, loader):\n",
    "    model.eval()\n",
    "    correct = 0\n",
    "    total = 0\n",
    "    with torch.no_grad():\n",
    "        for x, y in tqdm(loader, desc=\"testing\"):\n",
    "            x, y = x.to(device), y.to(device)\n",
    "            output = model(x)\n",
    "            pred = output.argmax(dim=1)\n",
    "            correct += (pred == y).sum().item()\n",
    "            total += y.size(0)\n",
    "    return correct / total"
   ]
  },
  {
   "cell_type": "code",
   "execution_count": 15,
   "metadata": {},
   "outputs": [
    {
     "name": "stderr",
     "output_type": "stream",
     "text": [
      "training: 100%|██████████| 20/20 [02:04<00:00,  6.20s/it]\n",
      "testing: 100%|██████████| 157/157 [00:00<00:00, 180.96it/s]\n"
     ]
    },
    {
     "name": "stdout",
     "output_type": "stream",
     "text": [
      "Clean Accuracy: 0.9895\n",
      "Targeted FGSM Accuracy: 0.19789999723434448\n",
      "UnTargeted FGSM Accuracy: 0.012999999336898327\n",
      "Targeted PGD Accuracy: 0.0030999998562037945\n",
      "UnTargeted PGD Accuracy: 0.02070000022649765\n",
      "Original Image:  7\n"
     ]
    },
    {
     "data": {
      "image/png": "[encoded data removed]",
      "text/plain": [
       "<Figure size 1500x300 with 5 Axes>"
      ]
     },
     "metadata": {},
     "output_type": "display_data"
    }
   ],
   "source": [
    "def generate_random_targets(y, num_classes=10):\n",
    "    '''\n",
    "    Generate random targets for targeted attacks.\n",
    "    Args:\n",
    "        y (torch.Tensor): Original labels.\n",
    "        num_classes (int): Number of classes. -> if minist and cifar dataset, num classes is 10\n",
    "    Returns:\n",
    "        torch.Tensor: Random targets.\n",
    "    '''\n",
    "    target = torch.randint(0, num_classes, y.shape, device=y.device)\n",
    "    mask = target == y\n",
    "    target[mask] = (target[mask] + 1) % num_classes # Ensure target is different from original label\n",
    "    return target\n",
    "\n",
    "def visualize_images(images, titles, dataset='mnist'):\n",
    "    '''\n",
    "    Visualize a list of images with corresponding titles.\n",
    "    Args:\n",
    "        images (list of torch.Tensor): List of image tensors to visualize.\n",
    "        titles (list of str): List of titles corresponding to each image.\n",
    "        dataset (str): Dataset type ('mnist' or 'cifar').\n",
    "    '''\n",
    "    num_images = len(images)\n",
    "    plt.figure(figsize=(3 * num_images, 3))\n",
    "    \n",
    "    for i, (image, title) in enumerate(zip(images, titles)):\n",
    "        plt.subplot(1, num_images, i + 1)\n",
    "        plt.title(title)\n",
    "        if dataset == 'mnist':\n",
    "            plt.imshow(image.squeeze().detach().cpu().numpy(), cmap='gray')\n",
    "        elif dataset == 'cifar':\n",
    "            plt.imshow(image.permute(1, 2, 0).detach().cpu().numpy())\n",
    "        plt.axis('off')\n",
    "    \n",
    "    plt.tight_layout()\n",
    "    plt.show()\n",
    "\n",
    "def run_attacks(model, train_loader, test_loader, num_classes, params):\n",
    "    model = model.to(device)\n",
    "    train(model, train_loader, epochs=params.get('epochs', 1))\n",
    "\n",
    "    clean_acc = test(model, test_loader)\n",
    "    print(f\"Clean Accuracy: {clean_acc:.4f}\")\n",
    "\n",
    "    epsilon = params.get('epsilon', 0.3)\n",
    "    alpha = params.get('alpha', 0.01)\n",
    "    steps = params.get('steps', 10)\n",
    "\n",
    "    x_all, y_all = [], []\n",
    "    for x, y in test_loader:\n",
    "        x_all.append(x)\n",
    "        y_all.append(y)\n",
    "    x = torch.cat(x_all).to(device)\n",
    "    y = torch.cat(y_all).to(device)\n",
    "    target = generate_random_targets(y, num_classes)\n",
    "\n",
    "    x_targeted_fgsm = fgsm_targeted(model, x, target, epsilon) # Targeted FGSM: target label로 분류되도록 변형된 입력 이미지\n",
    "    x_untargeted_fgsm = fgsm_untargeted(model, x, y, epsilon)  # UnTargeted FGSM: label로 분류되지 않도록 변형된 입력 이미지\n",
    "    x_targeted_pgd = pgd_attack(model, x, target, steps, epsilon, alpha, targeted=True) # Targeted PGD: target label로 분류되도록 변형된 입력 이미지\n",
    "    x_untargeted_pgd = pgd_attack(model, x, y, steps, epsilon, alpha, targeted=False) # UnTargeted PGD: label로 분류되지 않도록 변형된 입력 이미지\n",
    "\n",
    "\n",
    "    with torch.no_grad():\n",
    "        print(\"Targeted FGSM Accuracy:\", (model(x_targeted_fgsm).argmax(1) == target).float().mean().item()) # 변형된 이미지가 target label로 분류되는지 확인\n",
    "        print(\"UnTargeted FGSM Accuracy:\", (model(x_untargeted_fgsm).argmax(1) != y).float().mean().item())  # 변형된 이미지가 label로 분류되지 않는지 확인\n",
    "        print(\"Targeted PGD Accuracy:\", (model(x_targeted_pgd).argmax(1) == target).float().mean().item())   # 변형된 이미지가 target label로 분류되는지 확인\n",
    "        print(\"UnTargeted PGD Accuracy:\", (model(x_untargeted_pgd).argmax(1) != y).float().mean().item())    # 변형된 이미지가 label로 분류되지 않는지 확인\n",
    "    \n",
    "\n",
    "    # Visualize one of the original and adversarial examples\n",
    "    idx = 0\n",
    "    print(\"Original Image: \", y[idx].item())\n",
    "\n",
    "    visualize_images(\n",
    "        images=[\n",
    "            x[idx], \n",
    "            x_targeted_fgsm[idx], \n",
    "            x_untargeted_fgsm[idx], \n",
    "            x_targeted_pgd[idx], \n",
    "            x_untargeted_pgd[idx]\n",
    "        ],\n",
    "        titles=[\n",
    "            \"Original\", \n",
    "            \"Targeted FGSM\", \n",
    "            \"UnTargeted FGSM\", \n",
    "            \"Targeted PGD\", \n",
    "            \"UnTargeted PGD\"\n",
    "        ],\n",
    "        dataset='mnist' if x[idx].shape[0] == 1 else 'cifar'\n",
    "    )\n",
    "    \n",
    "# Experment Results: MNIST DataSet의 경우 적은 모델 파라미터로도 공격에 대한 Robustness를 확인할 수 있다.\n",
    "model = MNIST_CNN().to(device) # MNIST_CNN() or CIFAR_CNN()\n",
    "train_loader = mnist_train_loader # mnist_train_loader or cifar_train_loader\n",
    "test_loader = mnist_test_loader # mnist_test_loader or cifar_test_loader\n",
    "num_classes = len(mnist_train.classes) # 10 for MNIST and CIFAR10\n",
    "params = {\n",
    "    'epochs': 20,\n",
    "    'epsilon': 0.2,\n",
    "    'alpha': 1e-3,\n",
    "    'steps': 10,\n",
    "}\n",
    "run_attacks(model, train_loader, test_loader, num_classes, params)"
   ]
  },
  {
   "cell_type": "code",
   "execution_count": 16,
   "metadata": {},
   "outputs": [
    {
     "name": "stderr",
     "output_type": "stream",
     "text": [
      "training: 100%|██████████| 20/20 [02:02<00:00,  6.14s/it]\n",
      "testing: 100%|██████████| 157/157 [00:01<00:00, 146.09it/s]\n"
     ]
    },
    {
     "name": "stdout",
     "output_type": "stream",
     "text": [
      "Clean Accuracy: 0.6945\n",
      "Targeted FGSM Accuracy: 0.6441999673843384\n",
      "UnTargeted FGSM Accuracy: 0.446399986743927\n",
      "Targeted PGD Accuracy: 0.5633999705314636\n",
      "UnTargeted PGD Accuracy: 0.9540999531745911\n",
      "Original Image:  3\n"
     ]
    },
    {
     "data": {
      "image/png": "[encoded data removed]",
      "text/plain": [
       "<Figure size 1500x300 with 5 Axes>"
      ]
     },
     "metadata": {},
     "output_type": "display_data"
    }
   ],
   "source": [
    "model = CIFAR_CNN().to(device) # MNIST_CNN() or CIFAR_CNN()\n",
    "train_loader = cifar_train_loader\n",
    "test_loader = cifar_test_loader\n",
    "num_classes = len(cifar_train.classes) # 10 for MNIST and CIFAR10\n",
    "params = {\n",
    "    'epochs': 20,\n",
    "    'epsilon': 0.2,\n",
    "    'alpha': 1e-3,\n",
    "    'steps': 10,\n",
    "}\n",
    "run_attacks(model, train_loader, test_loader, num_classes, params)"
   ]
  },
  {
   "cell_type": "code",
   "execution_count": 18,
   "metadata": {},
   "outputs": [
    {
     "data": {
      "text/plain": [
       "'cat'"
      ]
     },
     "execution_count": 18,
     "metadata": {},
     "output_type": "execute_result"
    }
   ],
   "source": [
    "cifar_train.classes[3]"
   ]
  }
 ],
 "metadata": {
  "kernelspec": {
   "display_name": "FGSM",
   "language": "python",
   "name": "python3"
  },
  "language_info": {
   "codemirror_mode": {
    "name": "ipython",
    "version": 3
   },
   "file_extension": ".py",
   "mimetype": "text/x-python",
   "name": "python",
   "nbconvert_exporter": "python",
   "pygments_lexer": "ipython3",
   "version": "3.11.0"
  }
 },
 "nbformat": 4,
 "nbformat_minor": 2
}
